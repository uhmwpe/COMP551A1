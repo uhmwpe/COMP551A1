{
 "cells": [
  {
   "cell_type": "code",
   "execution_count": null,
   "metadata": {},
   "outputs": [],
   "source": [
    "import pandas as pd\n",
    "import pickle\n",
    "import re\n",
    "import sys\n",
    "\n",
    "df = pd.read_csv(sys.argv[1])"
   ]
  },
  {
   "cell_type": "code",
   "execution_count": null,
   "metadata": {},
   "outputs": [],
   "source": [
    "##Data Cleaning cecll\n",
    "\n",
    "df.iloc[2].user\n",
    "df.drop('replies.id', axis=1, inplace=True)\n",
    "df.drop('replies.date', axis=1, inplace=True)\n",
    "df.drop('replies.timestamp', axis=1, inplace=True)\n",
    "df.drop('replies.likes', axis=1, inplace=True)\n",
    "df.drop('id', axis=1, inplace=True)\n",
    "df.drop('timestamp', axis=1, inplace=True)\n",
    "df.drop('likes', axis=1, inplace=True)\n",
    "df.drop('date', axis=1, inplace=True)\n",
    "\n",
    "df.rename(columns={'replies.commentText': 'repliesCommentText', 'replies.user': 'repliesUser'}, inplace=True)"
   ]
  },
  {
   "cell_type": "code",
   "execution_count": null,
   "metadata": {},
   "outputs": [],
   "source": [
    "##Chinese comments only\n",
    "\n",
    "df['commentText'] = df['commentText'].str.replace(r\"[^\\u4e00-\\u9fff，。／【】、；‘:\"\"\\d]+\",\"\")\n",
    "df['repliesCommentText'] = df['repliesCommentText'].str.replace(r\"[^\\u4e00-\\u9fff，。／【】、；‘:\"\"\\d]+\",\"\")\n",
    "df = df[df.commentText != '']\n",
    "df = df[df.repliesCommentText != '']\n",
    "df = df.reset_index()"
   ]
  },
  {
   "cell_type": "code",
   "execution_count": null,
   "metadata": {},
   "outputs": [],
   "source": [
    "\n"
   ]
  },
  {
   "cell_type": "code",
   "execution_count": null,
   "metadata": {},
   "outputs": [],
   "source": [
    "### Appending into youtubeComments.xml\n",
    "\n",
    "f = open('youtubeComments.xml', 'a')\n",
    "for i in range(0, df.index.size-1):\n",
    "    if (pd.isnull(df.iloc[i].user) == False) and (pd.isnull(df.iloc[i+1].user) == False): #deals with case where there are no replies\n",
    "        uttid = 1\n",
    "        s = '\\t<s> \\n'.expandtabs(4)\n",
    "        s += '\\t< utt uid=\\\"'.expandtabs(8)\n",
    "        s += str(uttid)\n",
    "        s += '\\\">'\n",
    "        s += str(df.iloc[i].commentText)\n",
    "        s += '</utt>\\n'\n",
    "        s+= '\\t</s> \\n'.expandtabs(4)\n",
    "        f.write(s)\n",
    "    elif (pd.isnull(df.iloc[i+1].user) == True) and (pd.isnull(df.iloc[i].user) == False):\n",
    "        users = []\n",
    "        users.append(df.iloc[i].user)\n",
    "        uttid = 1\n",
    "        s = '\\t<s> \\n'.expandtabs(4)\n",
    "        s += '\\t< utt uid=\\\"'.expandtabs(8)\n",
    "        s += str(uttid)\n",
    "        s += '\\\">'\n",
    "        s += str(df.iloc[i].commentText)\n",
    "        s += '</utt>\\n'\n",
    "        if (i<df.index.size - 1):\n",
    "            j = i+1\n",
    "            \n",
    "        a = 0\n",
    "        \n",
    "        while((pd.isnull(df.iloc[j].user)==True) and (j<(df.index.size - 1))):\n",
    "            print('hello')\n",
    "            if not (pd.isnull(df.iloc[j].user)):\n",
    "                if df.iloc[j].user in users: #name already exists\n",
    "                    a = a+1\n",
    "                else:\n",
    "                    users.append(df.iloc[j].user)\n",
    "            else:\n",
    "                if df.iloc[j].repliesUser in users:\n",
    "                    a = a+1\n",
    "                else:\n",
    "                    users.append(df.iloc[j].repliesUser)\n",
    "            print('hi')\n",
    "            uttid = users.index(df.iloc[j].repliesUser) + 1\n",
    "            s += '\\t< utt uid=\\\"'.expandtabs(8)\n",
    "            s += str(uttid)\n",
    "            s += '\\\">'\n",
    "            s += df.iloc[j].repliesCommentText\n",
    "            s += '</utt>\\n'\n",
    "            j += 1\n",
    "            print(j)\n",
    "           \n",
    "        i = j\n",
    "        s+= '\\t</s> \\n'.expandtabs(4)\n",
    "        f.write(s)\n",
    "            \n",
    "        \n",
    "\n",
    "f.close()"
   ]
  },
  {
   "cell_type": "code",
   "execution_count": null,
   "metadata": {
    "collapsed": true
   },
   "outputs": [],
   "source": [
    "###writing list \n",
    "with open(\"test.txt\", \"wb\") as fp:\n",
    "    pickle.dump(users, fp)"
   ]
  }
 ],
 "metadata": {
  "kernelspec": {
   "display_name": "Python 3",
   "language": "python",
   "name": "python3"
  },
  "language_info": {
   "codemirror_mode": {
    "name": "ipython",
    "version": 3
   },
   "file_extension": ".py",
   "mimetype": "text/x-python",
   "name": "python",
   "nbconvert_exporter": "python",
   "pygments_lexer": "ipython3",
   "version": "3.6.1"
  }
 },
 "nbformat": 4,
 "nbformat_minor": 2
}
